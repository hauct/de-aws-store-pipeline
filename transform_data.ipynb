{
 "cells": [
  {
   "cell_type": "code",
   "execution_count": 4,
   "metadata": {},
   "outputs": [],
   "source": [
    "import findspark\n",
    "findspark.init()\n",
    "\n",
    "from pyspark.sql import SparkSession\n",
    "\n",
    "def read_from_postgres(db_info, table_name):\n",
    "    # Khởi tạo SparkSession\n",
    "    spark = SparkSession.builder \\\n",
    "        .appName(\"Postgres Reader\") \\\n",
    "        .config('spark.jars.packages', \"org.postgresql:postgresql:42.6.0\") \\\n",
    "        .getOrCreate()\n",
    "\n",
    "    # Đọc dữ liệu từ PostgreSQL\n",
    "    df = spark.read \\\n",
    "        .format(\"jdbc\") \\\n",
    "        .option(\"url\", f\"jdbc:postgresql://{db_info['DB_HOST']}/{db_info['DB_DATABASE']}\") \\\n",
    "        .option(\"dbtable\", f\"{db_info['DB_SCHEMA']}.{table_name}\") \\\n",
    "        .option(\"user\", db_info['DB_USER']) \\\n",
    "        .option(\"password\", db_info['DB_PASSWORD']) \\\n",
    "        .option(\"driver\", \"org.postgresql.Driver\") \\\n",
    "        .load()\n",
    "\n",
    "    return df"
   ]
  },
  {
   "cell_type": "code",
   "execution_count": 6,
   "metadata": {},
   "outputs": [
    {
     "name": "stdout",
     "output_type": "stream",
     "text": [
      "+------------------------------------+----------+----------+------------------------------------+---------------------------------------------+---------------+--------------+------------------+------+--------+------+\n",
      "|order_id                            |order_date|ship_date |customer_id                         |address_id                                   |product_id     |product_number|revenue           |cost  |discount|profit|\n",
      "+------------------------------------+----------+----------+------------------------------------+---------------------------------------------+---------------+--------------+------------------+------+--------+------+\n",
      "|340c9f56-d693-4a9d-a694-3ac079b60376|2024-01-01|2024-01-02|8548c95c-d1da-4bb6-80f4-2e16c4094fb6|38956435a154ff395523566ceda7bdff2728425883152|TEC-AC-10002550|3             |66.906            |48.79 |0.0     |18.12 |\n",
      "|a0098005-c298-4638-b9ca-5ab60052986b|2024-01-01|2024-01-04|6145e9a1-e129-4d2c-b3b4-377a03569223|8f3be77fdcdb88d614687ce2ff3465e22728429043472|OFF-FA-10004968|12            |62.831999999999994|54.612|0.15    |8.22  |\n",
      "|33fc1b46-c8c2-4d8a-b798-409c635eec8d|2024-01-01|2024-01-02|725be970-21b0-4337-a4ed-ea6952c38106|d573e0643de4798e1dbf56b95d2ad1ef2728421994656|OFF-PA-10003724|17            |129.234           |94.31 |0.0     |34.92 |\n",
      "|ef7ce6f4-94b1-48b0-bc5e-2daba1b270f6|2024-01-01|2024-01-02|91e574d3-b929-4c64-b446-07529e39d2c8|39cffb2c970c54303a5ded83fa1f47f52728427750064|TEC-AC-10003174|10            |1509.06           |1078.9|0.0     |430.16|\n",
      "|58384a2a-7770-48db-905c-d21a14d6f537|2024-01-01|2024-01-03|91e574d3-b929-4c64-b446-07529e39d2c8|39cffb2c970c54303a5ded83fa1f47f52728427750064|TEC-AC-10004803|18            |351.28799999999995|251.92|0.0     |99.37 |\n",
      "+------------------------------------+----------+----------+------------------------------------+---------------------------------------------+---------------+--------------+------------------+------+--------+------+\n",
      "only showing top 5 rows\n",
      "\n"
     ]
    }
   ],
   "source": [
    "# Sử dụng hàm\n",
    "db_info = {\n",
    "    'DB_HOST': 'introduction-01-intro-ap-southeast-1-dev-introduction-db.cpfm8ml2cxp2.ap-southeast-1.rds.amazonaws.com',\n",
    "    'DB_DATABASE': 'postgres',\n",
    "    'DB_USER': 'postgres',\n",
    "    'DB_PASSWORD': 'postgres123',\n",
    "    'DB_SCHEMA': 'hauct_endcourse_data'\n",
    "}\n",
    "table_name = 'dim_order'\n",
    "dim_order = read_from_postgres(db_info, table_name)\n",
    "dim_order.show(5,False)"
   ]
  },
  {
   "cell_type": "code",
   "execution_count": null,
   "metadata": {},
   "outputs": [],
   "source": [
    "# "
   ]
  }
 ],
 "metadata": {
  "kernelspec": {
   "display_name": "base",
   "language": "python",
   "name": "python3"
  },
  "language_info": {
   "codemirror_mode": {
    "name": "ipython",
    "version": 3
   },
   "file_extension": ".py",
   "mimetype": "text/x-python",
   "name": "python",
   "nbconvert_exporter": "python",
   "pygments_lexer": "ipython3",
   "version": "3.11.5"
  }
 },
 "nbformat": 4,
 "nbformat_minor": 2
}
